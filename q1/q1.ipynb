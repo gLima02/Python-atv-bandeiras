{
 "cells": [
  {
   "cell_type": "code",
   "execution_count": 1,
   "metadata": {},
   "outputs": [],
   "source": [
    "import cv2\n",
    "import matplotlib.pyplot as plt\n",
    "import numpy as np"
   ]
  },
  {
   "cell_type": "code",
   "execution_count": 16,
   "metadata": {},
   "outputs": [],
   "source": [
    "## implementar a função que identifica a bandeira\n",
    "## a função deve receber uma imagem e retornar a bandeira identificada\n",
    "## a função deve retornar uma lista de tuplas, onde cada tupla contém as coordenadas de um dos cantos da bandeira\n",
    "## [(PAIS, (x1, y2), (x2, y2)`),(PAIS, (x1, y2), (x2, y2)`),(PAIS, (x1, y2), (x2, y2)`),...]\n",
    "\n",
    "def identifica_bandeira(img):\n",
    "    # Sua implementação deve começar aqui\n",
    "\n",
    "    # quando implemenar a função, remova o pass\n",
    "    pass\n",
    "\n"
   ]
  },
  {
   "cell_type": "code",
   "execution_count": null,
   "metadata": {},
   "outputs": [],
   "source": []
  },
  {
   "cell_type": "code",
   "execution_count": null,
   "metadata": {},
   "outputs": [],
   "source": []
  },
  {
   "cell_type": "code",
   "execution_count": 33,
   "metadata": {},
   "outputs": [],
   "source": [
    "## nao alterar essa função\n",
    "# Função para desenhar as bandeiras identificadas\n",
    "def draw_bandeiras(lista_bandeiras, bgr):\n",
    "    try:\n",
    "        for bandeira in lista_bandeiras:\n",
    "            cv2.rectangle(bgr, bandeira[1], bandeira[2], (255, 0, 0), 5)\n",
    "            cv2.putText(bgr, bandeira[0], bandeira[1], cv2.FONT_HERSHEY_SIMPLEX, 1, (255, 0, 0), 2, cv2.LINE_AA)\n",
    "        return bgr\n",
    "    except Exception as e:\n",
    "        return bgr"
   ]
  },
  {
   "cell_type": "code",
   "execution_count": null,
   "metadata": {},
   "outputs": [],
   "source": [
    "## Para testar a função identifica_bandeira\n",
    "\n",
    "# Você pode testar a função identifica_bandeira com as imagens de teste fornecidas\n",
    "# \n",
    "img = cv2.imread('img/teste1.png')\n",
    "# img = cv2.imread('img/teste2.png')\n",
    "# img = cv2.imread('img/teste3.png')\n",
    "# img = cv2.imread('img/teste4.png')\n",
    "\n",
    "# Chamar a função identifica_bandeira\n",
    "resultado = identifica_bandeira(img)\n",
    "\n",
    "# Imprimir o resultado da função identifica_bandeira \n",
    "print(resultado)\n",
    "\n",
    "# Desenhar as bandeiras na imagem\n",
    "bgr = draw_bandeiras(resultado, img)\n",
    "plt.imshow(cv2.cvtColor(bgr, cv2.COLOR_BGR2RGB))\n",
    "plt.show()\n",
    "\n",
    "\n"
   ]
  },
  {
   "cell_type": "code",
   "execution_count": 19,
   "metadata": {},
   "outputs": [
    {
     "name": "stdout",
     "output_type": "stream",
     "text": [
      "Bandeiras detectadas: [('Singapura', (192, 496), (457, 673)), ('monaco', (726, 163), (984, 369)), ('Peru', (119, 121), (381, 296))]\n"
     ]
    },
    {
     "data": {
      "image/png": "[encoded data removed]",
      "text/plain": [
       "<Figure size 640x480 with 1 Axes>"
      ]
     },
     "metadata": {},
     "output_type": "display_data"
    }
   ],
   "source": [
    "import cv2\n",
    "import numpy as np\n",
    "import matplotlib.pyplot as plt\n",
    "\n",
    "def draw_bandeiras(lista_bandeiras, bgr):\n",
    "    \"\"\"Desenha retângulos e nomes das bandeiras detectadas na imagem.\"\"\"\n",
    "    try:\n",
    "        for bandeira in lista_bandeiras:\n",
    "            cv2.rectangle(bgr, bandeira[1], bandeira[2], (255, 0, 0), 5)\n",
    "            cv2.putText(bgr, bandeira[0], (bandeira[1][0], bandeira[1][1] - 10),\n",
    "                        cv2.FONT_HERSHEY_SIMPLEX, 1, (255, 0, 0), 2, cv2.LINE_AA)\n",
    "        return bgr\n",
    "    except Exception as e:\n",
    "        print(\"Erro ao desenhar bandeiras:\", e)\n",
    "        return bgr\n",
    "\n",
    "def identifica_bandeira(img):\n",
    "    if img is None:\n",
    "        print(\"Erro: Imagem não carregada. Verifique o caminho do arquivo.\")\n",
    "        return []\n",
    "\n",
    "    resultado = []\n",
    "\n",
    "    hsv = cv2.cvtColor(img, cv2.COLOR_BGR2HSV)\n",
    "\n",
    "    # Faixas de cor para vermelho e branco\n",
    "    faixa_vermelho1 = (0, 100, 50), (10, 255, 255)\n",
    "    faixa_vermelho2 = (170, 100, 50), (180, 255, 255)\n",
    "    faixa_branco = (0, 0, 200), (180, 50, 255)\n",
    "\n",
    "    mascara_vermelho1 = cv2.inRange(hsv, np.array(faixa_vermelho1[0]), np.array(faixa_vermelho1[1]))\n",
    "    mascara_vermelho2 = cv2.inRange(hsv, np.array(faixa_vermelho2[0]), np.array(faixa_vermelho2[1]))\n",
    "    mascara_vermelho = cv2.bitwise_or(mascara_vermelho1, mascara_vermelho2)\n",
    "    mascara_branco = cv2.inRange(hsv, np.array(faixa_branco[0]), np.array(faixa_branco[1]))\n",
    "\n",
    "    # Combinar as máscaras de vermelho e branco em um único \"objeto\"\n",
    "    mascara_combinada = cv2.bitwise_or(mascara_vermelho, mascara_branco)\n",
    "\n",
    "    # Encontrar contornos na máscara combinada\n",
    "    contornos, _ = cv2.findContours(mascara_combinada, cv2.RETR_EXTERNAL, cv2.CHAIN_APPROX_SIMPLE)\n",
    "\n",
    "    for contorno in contornos:\n",
    "        x, y, w, h = cv2.boundingRect(contorno)\n",
    "        if w > 50 and h > 30:  # Filtrar objetos pequenos\n",
    "            # Criar uma máscara para o contorno\n",
    "            mascara_objeto = np.zeros_like(mascara_combinada)\n",
    "            cv2.drawContours(mascara_objeto, [contorno], -1, 255, thickness=cv2.FILLED)\n",
    "\n",
    "            # Calcular a área de vermelho e branco dentro do contorno\n",
    "            area_vermelho = cv2.bitwise_and(mascara_vermelho, mascara_objeto)\n",
    "            area_branco = cv2.bitwise_and(mascara_branco, mascara_objeto)\n",
    "\n",
    "            # Contar o número de pixels vermelhos e brancos\n",
    "            vermelho_pixels = cv2.countNonZero(area_vermelho)\n",
    "            branco_pixels = cv2.countNonZero(area_branco)\n",
    "\n",
    "            total_pixels = vermelho_pixels + branco_pixels\n",
    "\n",
    "            if total_pixels > 0:  # Se houver algum pixel vermelho ou branco\n",
    "                # Calcular a proporção de branco e vermelho\n",
    "                proporcao_branco = branco_pixels / total_pixels\n",
    "                proporcao_vermelho = vermelho_pixels / total_pixels\n",
    "\n",
    "                # Usar a proporção de branco e vermelho para identificar a bandeira\n",
    "                if proporcao_branco > 0.5:  # Maioria de branco (Singapura)\n",
    "                    resultado.append((\"Singapura\", (x, y), (x + w, y + h)))  \n",
    "                elif proporcao_branco == 0.5:  # Metade branco (Mônaco)\n",
    "                    resultado.append((\"monaco\", (x, y), (x + w, y + h)))  \n",
    "                else:  # Maioria de vermelho (Singapura)\n",
    "                    resultado.append((\"Peru\", (x, y), (x + w, y + h)))  \n",
    "\n",
    "    return resultado\n",
    "\n",
    "def main(): \n",
    "    # Carregar a imagem de teste\n",
    "    img = cv2.imread('img/teste1.png')\n",
    "    \n",
    "    if img is None:\n",
    "        print(\"Caminho da imagme errado\")\n",
    "        return\n",
    "    \n",
    "    # Chamar a função identifica_bandeira\n",
    "    resultado = identifica_bandeira(img)\n",
    "\n",
    "    # Imprimir o resultado\n",
    "    print(\"Bandeiras detectadas:\", resultado)\n",
    "\n",
    "    # Desenhar as bandeiras na imagem\n",
    "    bgr = draw_bandeiras(resultado, img)\n",
    "    \n",
    "    # Mostrar a imagem resultante\n",
    "    plt.imshow(cv2.cvtColor(bgr, cv2.COLOR_BGR2RGB))\n",
    "    plt.show()\n",
    "\n",
    "if __name__ == \"__main__\":\n",
    "    main()"
   ]
  }
 ],
 "metadata": {
  "kernelspec": {
   "display_name": "Python 3",
   "language": "python",
   "name": "python3"
  },
  "language_info": {
   "codemirror_mode": {
    "name": "ipython",
    "version": 3
   },
   "file_extension": ".py",
   "mimetype": "text/x-python",
   "name": "python",
   "nbconvert_exporter": "python",
   "pygments_lexer": "ipython3",
   "version": "3.12.3"
  }
 },
 "nbformat": 4,
 "nbformat_minor": 2
}
